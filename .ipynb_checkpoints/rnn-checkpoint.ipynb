{
 "cells": [
  {
   "cell_type": "markdown",
   "metadata": {},
   "source": [
    "# Recurrent Neural Networks\n",
    "Son buenas en problemas de texto, npl y secuencias\n",
    "\n"
   ]
  },
  {
   "cell_type": "code",
   "execution_count": 1,
   "metadata": {},
   "outputs": [
    {
     "name": "stdout",
     "output_type": "stream",
     "text": [
      "INPUTS\n",
      "[[0.59363428 0.10770713 0.07946329 ... 0.77629056 0.20931953 0.26215807]\n",
      " [0.49557806 0.27773574 0.3845138  ... 0.99994428 0.70575074 0.51252065]\n",
      " [0.67730598 0.90012071 0.52863081 ... 0.73826099 0.42442088 0.13958657]\n",
      " ...\n",
      " [0.19701306 0.03312463 0.20636439 ... 0.77731013 0.97816818 0.11240423]\n",
      " [0.79719113 0.20894819 0.89448902 ... 0.89062755 0.54543168 0.79426139]\n",
      " [0.9813475  0.58463016 0.05863204 ... 0.51692965 0.04523177 0.01003126]] \n",
      "shape (100, 32)\n",
      "W shape (64, 32)\n",
      "U shape (64, 32)\n",
      "b shape (64, 32)\n",
      "Final shape (6400,)\n"
     ]
    }
   ],
   "source": [
    "# RNN from scratch\n",
    "%matplotlib inline\n",
    "import numpy as np\n",
    "timesteps = 100\n",
    "input_features = 32\n",
    "output_features = 64\n",
    "\n",
    "inputs = np.random.random((timesteps, input_features))\n",
    "print \"INPUTS\\n\", inputs, \"\\nshape\", np.shape(inputs)\n",
    "state_t = np.zeros((output_features,))\n",
    "\n",
    "W = np.random.random((output_features, input_features))\n",
    "print \"W shape\", np.shape(W)\n",
    "U = np.random.random((output_features, output_features))\n",
    "print \"U shape\", np.shape(W)\n",
    "b = np.random.random((output_features,))\n",
    "print \"b shape\", np.shape(W)\n",
    "\n",
    "successive_outputs = []\n",
    "for input_t in inputs:\n",
    "    output_t = np.tanh(np.dot(W, input_t) + np.dot(U, state_t) + b)\n",
    "    successive_outputs.append(output_t)\n",
    "    state_t = output_t\n",
    "\n",
    "final_output_sequence = np.concatenate(successive_outputs, axis=0)\n",
    "print \"Final shape\",np.shape(final_output_sequence)"
   ]
  },
  {
   "cell_type": "markdown",
   "metadata": {},
   "source": [
    "### Let's import dataset and vectorize it\n",
    "Construct an example of RNN in keras"
   ]
  },
  {
   "cell_type": "code",
   "execution_count": 6,
   "metadata": {},
   "outputs": [
    {
     "name": "stdout",
     "output_type": "stream",
     "text": [
      "Loading data...\n",
      "(25000, 'train sequences')\n",
      "(25000, 'test sequences')\n",
      "Pad sequences (samples x time)\n",
      "[list([1, 14, 22, 16, 43, 530, 973, 1622, 1385, 65, 458, 4468, 66, 3941, 4, 173, 36, 256, 5, 25, 100, 43, 838, 112, 50, 670, 2, 9, 35, 480, 284, 5, 150, 4, 172, 112, 167, 2, 336, 385, 39, 4, 172, 4536, 1111, 17, 546, 38, 13, 447, 4, 192, 50, 16, 6, 147, 2025, 19, 14, 22, 4, 1920, 4613, 469, 4, 22, 71, 87, 12, 16, 43, 530, 38, 76, 15, 13, 1247, 4, 22, 17, 515, 17, 12, 16, 626, 18, 2, 5, 62, 386, 12, 8, 316, 8, 106, 5, 4, 2223, 5244, 16, 480, 66, 3785, 33, 4, 130, 12, 16, 38, 619, 5, 25, 124, 51, 36, 135, 48, 25, 1415, 33, 6, 22, 12, 215, 28, 77, 52, 5, 14, 407, 16, 82, 2, 8, 4, 107, 117, 5952, 15, 256, 4, 2, 7, 3766, 5, 723, 36, 71, 43, 530, 476, 26, 400, 317, 46, 7, 4, 2, 1029, 13, 104, 88, 4, 381, 15, 297, 98, 32, 2071, 56, 26, 141, 6, 194, 7486, 18, 4, 226, 22, 21, 134, 476, 26, 480, 5, 144, 30, 5535, 18, 51, 36, 28, 224, 92, 25, 104, 4, 226, 65, 16, 38, 1334, 88, 12, 16, 283, 5, 16, 4472, 113, 103, 32, 15, 16, 5345, 19, 178, 32])\n",
      " list([1, 194, 1153, 194, 8255, 78, 228, 5, 6, 1463, 4369, 5012, 134, 26, 4, 715, 8, 118, 1634, 14, 394, 20, 13, 119, 954, 189, 102, 5, 207, 110, 3103, 21, 14, 69, 188, 8, 30, 23, 7, 4, 249, 126, 93, 4, 114, 9, 2300, 1523, 5, 647, 4, 116, 9, 35, 8163, 4, 229, 9, 340, 1322, 4, 118, 9, 4, 130, 4901, 19, 4, 1002, 5, 89, 29, 952, 46, 37, 4, 455, 9, 45, 43, 38, 1543, 1905, 398, 4, 1649, 26, 6853, 5, 163, 11, 3215, 2, 4, 1153, 9, 194, 775, 7, 8255, 2, 349, 2637, 148, 605, 2, 8003, 15, 123, 125, 68, 2, 6853, 15, 349, 165, 4362, 98, 5, 4, 228, 9, 43, 2, 1157, 15, 299, 120, 5, 120, 174, 11, 220, 175, 136, 50, 9, 4373, 228, 8255, 5, 2, 656, 245, 2350, 5, 4, 9837, 131, 152, 491, 18, 2, 32, 7464, 1212, 14, 9, 6, 371, 78, 22, 625, 64, 1382, 9, 8, 168, 145, 23, 4, 1690, 15, 16, 4, 1355, 5, 28, 6, 52, 154, 462, 33, 89, 78, 285, 16, 145, 95])\n",
      " list([1, 14, 47, 8, 30, 31, 7, 4, 249, 108, 7, 4, 5974, 54, 61, 369, 13, 71, 149, 14, 22, 112, 4, 2401, 311, 12, 16, 3711, 33, 75, 43, 1829, 296, 4, 86, 320, 35, 534, 19, 263, 4821, 1301, 4, 1873, 33, 89, 78, 12, 66, 16, 4, 360, 7, 4, 58, 316, 334, 11, 4, 1716, 43, 645, 662, 8, 257, 85, 1200, 42, 1228, 2578, 83, 68, 3912, 15, 36, 165, 1539, 278, 36, 69, 2, 780, 8, 106, 14, 6905, 1338, 18, 6, 22, 12, 215, 28, 610, 40, 6, 87, 326, 23, 2300, 21, 23, 22, 12, 272, 40, 57, 31, 11, 4, 22, 47, 6, 2307, 51, 9, 170, 23, 595, 116, 595, 1352, 13, 191, 79, 638, 89, 2, 14, 9, 8, 106, 607, 624, 35, 534, 6, 227, 7, 129, 113])\n",
      " ...\n",
      " list([1, 11, 6, 230, 245, 6401, 9, 6, 1225, 446, 2, 45, 2174, 84, 8322, 4007, 21, 4, 912, 84, 2, 325, 725, 134, 2, 1715, 84, 5, 36, 28, 57, 1099, 21, 8, 140, 8, 703, 5, 2, 84, 56, 18, 1644, 14, 9, 31, 7, 4, 9406, 1209, 2295, 2, 1008, 18, 6, 20, 207, 110, 563, 12, 8, 2901, 2, 8, 97, 6, 20, 53, 4767, 74, 4, 460, 364, 1273, 29, 270, 11, 960, 108, 45, 40, 29, 2961, 395, 11, 6, 4065, 500, 7, 2, 89, 364, 70, 29, 140, 4, 64, 4780, 11, 4, 2678, 26, 178, 4, 529, 443, 2, 5, 27, 710, 117, 2, 8123, 165, 47, 84, 37, 131, 818, 14, 595, 10, 10, 61, 1242, 1209, 10, 10, 288, 2260, 1702, 34, 2901, 2, 4, 65, 496, 4, 231, 7, 790, 5, 6, 320, 234, 2766, 234, 1119, 1574, 7, 496, 4, 139, 929, 2901, 2, 7750, 5, 4241, 18, 4, 8497, 2, 250, 11, 1818, 7561, 4, 4217, 5408, 747, 1115, 372, 1890, 1006, 541, 9303, 7, 4, 59, 2, 4, 3586, 2])\n",
      " list([1, 1446, 7079, 69, 72, 3305, 13, 610, 930, 8, 12, 582, 23, 5, 16, 484, 685, 54, 349, 11, 4120, 2959, 45, 58, 1466, 13, 197, 12, 16, 43, 23, 2, 5, 62, 30, 145, 402, 11, 4131, 51, 575, 32, 61, 369, 71, 66, 770, 12, 1054, 75, 100, 2198, 8, 4, 105, 37, 69, 147, 712, 75, 3543, 44, 257, 390, 5, 69, 263, 514, 105, 50, 286, 1814, 23, 4, 123, 13, 161, 40, 5, 421, 4, 116, 16, 897, 13, 2, 40, 319, 5872, 112, 6700, 11, 4803, 121, 25, 70, 3468, 4, 719, 3798, 13, 18, 31, 62, 40, 8, 7200, 4, 2, 7, 14, 123, 5, 942, 25, 8, 721, 12, 145, 5, 202, 12, 160, 580, 202, 12, 6, 52, 58, 2, 92, 401, 728, 12, 39, 14, 251, 8, 15, 251, 5, 2, 12, 38, 84, 80, 124, 12, 9, 23])\n",
      " list([1, 17, 6, 194, 337, 7, 4, 204, 22, 45, 254, 8, 106, 14, 123, 4, 2, 270, 2, 5, 2, 2, 732, 2098, 101, 405, 39, 14, 1034, 4, 1310, 9, 115, 50, 305, 12, 47, 4, 168, 5, 235, 7, 38, 111, 699, 102, 7, 4, 4039, 9245, 9, 24, 6, 78, 1099, 17, 2345, 2, 21, 27, 9685, 6139, 5, 2, 1603, 92, 1183, 4, 1310, 7, 4, 204, 42, 97, 90, 35, 221, 109, 29, 127, 27, 118, 8, 97, 12, 157, 21, 6789, 2, 9, 6, 66, 78, 1099, 4, 631, 1191, 5, 2642, 272, 191, 1070, 6, 7585, 8, 2197, 2, 2, 544, 5, 383, 1271, 848, 1468, 2, 497, 2, 8, 1597, 8778, 2, 21, 60, 27, 239, 9, 43, 8368, 209, 405, 10, 10, 12, 764, 40, 4, 248, 20, 12, 16, 5, 174, 1791, 72, 7, 51, 6, 1739, 22, 4, 204, 131, 9])]\n",
      "After pad sequence\n",
      "[[ 924  102   17 ...  790  457  158]\n",
      " [   0    0    0 ... 1084   11 2088]\n",
      " [   0    0    0 ...    7   68  118]\n",
      " ...\n",
      " [   0    0    0 ...    4 3586    2]\n",
      " [   0    0    0 ...   12    9   23]\n",
      " [   0    0    0 ...  204  131    9]]\n",
      "('input_train shape:', (25000, 500))\n",
      "('input_test shape:', (25000, 500))\n"
     ]
    }
   ],
   "source": [
    "from keras.datasets import imdb\n",
    "from keras.preprocessing import sequence\n",
    "\n",
    "max_features = 10000\n",
    "maxlen = 500 # max length of words per review\n",
    "batch_size = 32\n",
    "\n",
    "print('Loading data...')\n",
    "(input_train, y_train), (input_test, y_test) = imdb.load_data(num_words=max_features)\n",
    "print(len(input_train), 'train sequences')\n",
    "print(len(input_test), 'test sequences')\n",
    "print('Pad sequences (samples x time)')\n",
    "\n",
    "print input_train\n",
    "input_train = sequence.pad_sequences(input_train, maxlen=maxlen)\n",
    "print \"After pad sequence\\n\", input_train[2499:]\n",
    "input_test = sequence.pad_sequences(input_test, maxlen=maxlen)\n",
    "print('input_train shape:', input_train.shape)\n",
    "print('input_test shape:', input_test.shape)"
   ]
  },
  {
   "cell_type": "markdown",
   "metadata": {},
   "source": [
    "### Create the model"
   ]
  },
  {
   "cell_type": "code",
   "execution_count": 3,
   "metadata": {
    "scrolled": false
   },
   "outputs": [
    {
     "name": "stdout",
     "output_type": "stream",
     "text": [
      "WARNING:tensorflow:From /Users/midulcehogar/Desktop/science/lib/python2.7/site-packages/tensorflow/python/framework/op_def_library.py:263: colocate_with (from tensorflow.python.framework.ops) is deprecated and will be removed in a future version.\n",
      "Instructions for updating:\n",
      "Colocations handled automatically by placer.\n",
      "WARNING:tensorflow:From /Users/midulcehogar/Desktop/science/lib/python2.7/site-packages/tensorflow/python/ops/math_ops.py:3066: to_int32 (from tensorflow.python.ops.math_ops) is deprecated and will be removed in a future version.\n",
      "Instructions for updating:\n",
      "Use tf.cast instead.\n",
      "Train on 20000 samples, validate on 5000 samples\n",
      "Epoch 1/10\n",
      "20000/20000 [==============================] - 18s 905us/step - loss: 0.6420 - acc: 0.6125 - val_loss: 0.5388 - val_acc: 0.7438\n",
      "Epoch 2/10\n",
      "20000/20000 [==============================] - 17s 873us/step - loss: 0.4128 - acc: 0.8202 - val_loss: 1.1643 - val_acc: 0.5558\n",
      "Epoch 3/10\n",
      "20000/20000 [==============================] - 17s 863us/step - loss: 0.2966 - acc: 0.8810 - val_loss: 0.3591 - val_acc: 0.8552\n",
      "Epoch 4/10\n",
      "20000/20000 [==============================] - 17s 846us/step - loss: 0.2130 - acc: 0.9179 - val_loss: 0.4019 - val_acc: 0.8258\n",
      "Epoch 5/10\n",
      "20000/20000 [==============================] - 17s 864us/step - loss: 0.1497 - acc: 0.9464 - val_loss: 0.3686 - val_acc: 0.8670\n",
      "Epoch 6/10\n",
      "20000/20000 [==============================] - 17s 855us/step - loss: 0.0957 - acc: 0.9686 - val_loss: 0.3972 - val_acc: 0.8516\n",
      "Epoch 7/10\n",
      "20000/20000 [==============================] - 17s 862us/step - loss: 0.0637 - acc: 0.9791 - val_loss: 0.4822 - val_acc: 0.8322\n",
      "Epoch 8/10\n",
      "20000/20000 [==============================] - 17s 856us/step - loss: 0.0409 - acc: 0.9874 - val_loss: 0.5898 - val_acc: 0.8066\n",
      "Epoch 9/10\n",
      "20000/20000 [==============================] - 18s 884us/step - loss: 0.0248 - acc: 0.9933 - val_loss: 0.5806 - val_acc: 0.8416\n",
      "Epoch 10/10\n",
      "20000/20000 [==============================] - 17s 868us/step - loss: 0.0196 - acc: 0.9950 - val_loss: 0.6816 - val_acc: 0.8086\n"
     ]
    }
   ],
   "source": [
    "from keras.layers import Dense, Embedding, SimpleRNN\n",
    "from keras.models import Sequential\n",
    "\n",
    "\n",
    "model = Sequential()\n",
    "model.add(Embedding(max_features, 32))\n",
    "model.add(SimpleRNN(32))\n",
    "model.add(Dense(1, activation='sigmoid'))\n",
    "model.compile(optimizer='rmsprop', loss='binary_crossentropy', metrics=['acc'])\n",
    "\n",
    "history = model.fit(input_train, y_train,\n",
    "                epochs=10,\n",
    "                batch_size=128,\n",
    "                validation_split=0.2)"
   ]
  },
  {
   "cell_type": "markdown",
   "metadata": {},
   "source": [
    "### Plot results"
   ]
  },
  {
   "cell_type": "code",
   "execution_count": 5,
   "metadata": {},
   "outputs": [
    {
     "data": {
      "image/png": "[encoded data removed]",
      "text/plain": [
       "<Figure size 432x288 with 1 Axes>"
      ]
     },
     "metadata": {
      "needs_background": "light"
     },
     "output_type": "display_data"
    },
    {
     "data": {
      "image/png": "[encoded data removed]",
      "text/plain": [
       "<Figure size 432x288 with 1 Axes>"
      ]
     },
     "metadata": {
      "needs_background": "light"
     },
     "output_type": "display_data"
    }
   ],
   "source": [
    "import matplotlib.pyplot as plt\n",
    "\n",
    "acc = history.history['acc']\n",
    "val_acc = history.history['val_acc']\n",
    "loss = history.history['loss']\n",
    "val_loss = history.history['val_loss']\n",
    "\n",
    "epochs = range(1, len(acc) + 1)\n",
    "\n",
    "plt.plot(epochs, acc, 'bo', label='Training acc')\n",
    "plt.plot(epochs, val_acc, 'b', label='Validation acc')\n",
    "\n",
    "plt.title('Training and validation accuracy')\n",
    "plt.legend()\n",
    "\n",
    "plt.figure()\n",
    "\n",
    "plt.plot(epochs, loss, 'bo', label='Training loss')\n",
    "plt.plot(epochs, val_loss, 'b', label='Validation loss')\n",
    "plt.title('Training and validation loss')\n",
    "plt.legend()\n",
    "\n",
    "plt.show()"
   ]
  },
  {
   "cell_type": "markdown",
   "metadata": {},
   "source": [
    "### Change RNN by LSTM"
   ]
  },
  {
   "cell_type": "code",
   "execution_count": 9,
   "metadata": {},
   "outputs": [
    {
     "name": "stdout",
     "output_type": "stream",
     "text": [
      "Train on 20000 samples, validate on 5000 samples\n",
      "Epoch 1/10\n",
      "20000/20000 [==============================] - 68s 3ms/step - loss: 0.5042 - acc: 0.7657 - val_loss: 0.3905 - val_acc: 0.8330\n",
      "Epoch 2/10\n",
      "20000/20000 [==============================] - 67s 3ms/step - loss: 0.2914 - acc: 0.8852 - val_loss: 0.3065 - val_acc: 0.8744\n",
      "Epoch 3/10\n",
      "20000/20000 [==============================] - 68s 3ms/step - loss: 0.2289 - acc: 0.9112 - val_loss: 0.3428 - val_acc: 0.8806\n",
      "Epoch 4/10\n",
      "20000/20000 [==============================] - 72s 4ms/step - loss: 0.1981 - acc: 0.9269 - val_loss: 0.3976 - val_acc: 0.8724\n",
      "Epoch 5/10\n",
      "20000/20000 [==============================] - 75s 4ms/step - loss: 0.1765 - acc: 0.9351 - val_loss: 0.3092 - val_acc: 0.8820\n",
      "Epoch 6/10\n",
      "20000/20000 [==============================] - 77s 4ms/step - loss: 0.1542 - acc: 0.9414 - val_loss: 0.3605 - val_acc: 0.8746\n",
      "Epoch 7/10\n",
      "20000/20000 [==============================] - 72s 4ms/step - loss: 0.1426 - acc: 0.9492 - val_loss: 0.3887 - val_acc: 0.8676\n",
      "Epoch 8/10\n",
      "20000/20000 [==============================] - 72s 4ms/step - loss: 0.1280 - acc: 0.9553 - val_loss: 0.3637 - val_acc: 0.8846\n",
      "Epoch 9/10\n",
      "20000/20000 [==============================] - 69s 3ms/step - loss: 0.1174 - acc: 0.9589 - val_loss: 0.3408 - val_acc: 0.8858\n",
      "Epoch 10/10\n",
      "20000/20000 [==============================] - 72s 4ms/step - loss: 0.1124 - acc: 0.9614 - val_loss: 0.3562 - val_acc: 0.8852\n"
     ]
    }
   ],
   "source": [
    "from keras.layers import Dense, Embedding, SimpleRNN, LSTM\n",
    "from keras.models import Sequential\n",
    "\n",
    "\n",
    "model = Sequential()\n",
    "model.add(Embedding(max_features, 32))\n",
    "model.add(LSTM(32))\n",
    "model.add(Dense(1, activation='sigmoid'))\n",
    "model.compile(optimizer='rmsprop', loss='binary_crossentropy', metrics=['acc'])\n",
    "\n",
    "history = model.fit(input_train, y_train,\n",
    "                epochs=10,\n",
    "                batch_size=128,\n",
    "                validation_split=0.2)"
   ]
  },
  {
   "cell_type": "code",
   "execution_count": 10,
   "metadata": {},
   "outputs": [
    {
     "data": {
      "image/png": "[encoded data removed]",
      "text/plain": [
       "<Figure size 432x288 with 1 Axes>"
      ]
     },
     "metadata": {
      "needs_background": "light"
     },
     "output_type": "display_data"
    },
    {
     "data": {
      "image/png": "[encoded data removed]",
      "text/plain": [
       "<Figure size 432x288 with 1 Axes>"
      ]
     },
     "metadata": {
      "needs_background": "light"
     },
     "output_type": "display_data"
    }
   ],
   "source": [
    "acc = history.history['acc']\n",
    "val_acc = history.history['val_acc']\n",
    "loss = history.history['loss']\n",
    "val_loss = history.history['val_loss']\n",
    "\n",
    "epochs = range(1, len(acc) + 1)\n",
    "\n",
    "plt.plot(epochs, acc, 'bo', label='Training acc')\n",
    "plt.plot(epochs, val_acc, 'b', label='Validation acc')\n",
    "\n",
    "plt.title('Training and validation accuracy')\n",
    "plt.legend()\n",
    "\n",
    "plt.figure()\n",
    "\n",
    "plt.plot(epochs, loss, 'bo', label='Training loss')\n",
    "plt.plot(epochs, val_loss, 'b', label='Validation loss')\n",
    "plt.title('Training and validation loss')\n",
    "plt.legend()\n",
    "\n",
    "plt.show()"
   ]
  },
  {
   "cell_type": "markdown",
   "metadata": {},
   "source": [
    "# RNN for dino names exercise \n",
    "Implementando RNN como ejercicio para generar nombres de dinosaurios"
   ]
  },
  {
   "cell_type": "code",
   "execution_count": 1,
   "metadata": {},
   "outputs": [
    {
     "name": "stderr",
     "output_type": "stream",
     "text": [
      "Using TensorFlow backend.\n"
     ]
    }
   ],
   "source": [
    "# Importaciones\n",
    "import numpy as np\n",
    "np.random.seed(5) # reproducibilidad\n",
    "from keras.layers import Input, Dense, SimpleRNN\n",
    "from keras.models import Model\n",
    "from keras.optimizers import SGD\n",
    "from keras.utils import to_categorical\n",
    "from keras import backend as K\n",
    "\n"
   ]
  },
  {
   "cell_type": "code",
   "execution_count": 6,
   "metadata": {},
   "outputs": [
    {
     "name": "stdout",
     "output_type": "stream",
     "text": [
      "{'\\n': 0, 'a': 1, 'c': 3, 'b': 2, 'e': 5, 'd': 4, 'g': 7, 'f': 6, 'i': 9, 'h': 8, 'k': 11, 'j': 10, 'm': 13, 'l': 12, 'o': 15, 'n': 14, 'q': 17, 'p': 16, 's': 19, 'r': 18, 'u': 21, 't': 20, 'w': 23, 'v': 22, 'y': 25, 'x': 24, 'z': 26}\n"
     ]
    }
   ],
   "source": [
    "# Carga de datos\n",
    "names = open('dinonames.txt', 'r').read()\n",
    "names = names.lower()\n",
    "\n",
    "alphabet = list(set(names))\n",
    "tam_alphabet = len(alphabet)\n",
    "# Conversión de caracteres a índices y viceversa\n",
    "car_a_ind = { car:ind for ind,car in enumerate(sorted(alphabet))} # caracter a indice\n",
    "ind_a_car = { ind:car for ind,car in enumerate(sorted(alphabet))} # indice a caracter\n",
    "print(car_a_ind)\n",
    "#print(ind_a_car)\n",
    "\n"
   ]
  },
  {
   "cell_type": "code",
   "execution_count": 11,
   "metadata": {},
   "outputs": [
    {
     "name": "stdout",
     "output_type": "stream",
     "text": [
      "Entrada:\n",
      "Tensor(\"input_9:0\", shape=(?, ?, 27), dtype=float32) \n",
      " a0:\n",
      "Tensor(\"input_10:0\", shape=(?, 25), dtype=float32) \n",
      "Salida:\n",
      "Tensor(\"dense_5/Softmax:0\", shape=(?, 27), dtype=float32)\n"
     ]
    }
   ],
   "source": [
    "# Modelo\n",
    "n_a = 25 # numero de neuronas \n",
    "entrada = Input(shape=(None, tam_alphabet)) # con None hago variable \n",
    "a0 = Input(shape=(n_a,)) # hidden state o estado oculto\n",
    "celda_recurrente = SimpleRNN(n_a, activation='tanh', return_state=True) # a la salida entregue el nuevo estado oculto actualizado\n",
    "capa_salida = Dense(tam_alphabet, activation='softmax')\n",
    "\n",
    "hidden_s, _ = celda_recurrente(entrada, initial_state=a0)\n",
    "salida = []\n",
    "salida.append(capa_salida(hidden_s))\n",
    "print \"Entrada:\\n\", entrada, \"\\n a0:\\n\", a0, \"\\nSalida:\\n\", salida\n",
    "modelo = Model([entrada, a0], salida)\n",
    "\n",
    "opt = SGD(lr=0.005)\n",
    "modelo.compile(optimizer=opt, loss='categorical_crossentropy')\n",
    "\n"
   ]
  },
  {
   "cell_type": "code",
   "execution_count": null,
   "metadata": {},
   "outputs": [],
   "source": [
    "# Crear lista con ejemplos de entrenamiento y mezclarla aleatoriamente\n",
    "with open(\"nombres_dinosaurios.txt\") as f:\n",
    "    ejemplos = f.readlines()\n",
    "ejemplos = [x.lower().strip() for x in ejemplos]\n",
    "np.random.shuffle(ejemplos)\n",
    "\n",
    "# Crear ejemplos de entrenamiento usando un generador\n",
    "def train_generator():\n",
    "    while True:\n",
    "        # Tomar un ejemplo aleatorio\n",
    "        ejemplo = ejemplos[np.random.randint(0,len(ejemplos))]\n",
    "\n",
    "        # Convertir el ejemplo a representación numérica\n",
    "        X = [None] + [car_a_ind[c] for c in ejemplo]\n",
    "\n",
    "        # Crear \"Y\", resultado de desplazar \"X\" un caracter a la derecha\n",
    "        Y = X[1:] + [car_a_ind['\\n']]\n",
    "\n",
    "        # Representar \"X\" y \"Y\" en formato one-hot\n",
    "        x = np.zeros((len(X),1,tam_alfabeto))\n",
    "        onehot = to_categorical(X[1:],tam_alfabeto).reshape(len(X)-1,1,tam_alfabeto)\n",
    "        x[1:,:,:] = onehot\n",
    "        y = to_categorical(Y,tam_alfabeto).reshape(len(X),tam_alfabeto)\n",
    "\n",
    "        # Activación inicial (matriz de ceros)\n",
    "        a = np.zeros((len(X), n_a))\n",
    "\n",
    "        yield [x, a], y\n"
   ]
  },
  {
   "cell_type": "code",
   "execution_count": null,
   "metadata": {},
   "outputs": [],
   "source": [
    "# 4. ENTRENAMIENTO\n",
    "# ===========================================================\n",
    "BATCH_SIZE = 80\t\t\t# Número de ejemplos de entrenamiento a usar en cada iteración\n",
    "NITS = 10000\t\t\t# Número de iteraciones\n",
    "\n",
    "for j in range(NITS):\n",
    "    historia = modelo.fit_generator(train_generator(), steps_per_epoch=BATCH_SIZE, epochs=1, verbose=0)\n",
    "\n",
    "    # Imprimir evolución del entrenamiento cada 1000 iteraciones\n",
    "    if j%1000 == 0:\n",
    "        print('\\nIteración: %d, Error: %f' % (j, historia.history['loss'][0]) + '\\n')\n",
    "\n",
    "\n",
    "# 5. GENERACIÓN DE NOMBRES USANDO EL MODELO ENTRENADO\n",
    "# ===========================================================\n",
    "def generar_nombre(modelo,car_a_num,tam_alfabeto,n_a):\n",
    "    # Inicializar x y a con ceros\n",
    "    x = np.zeros((1,1,tam_alfabeto,))\n",
    "    a = np.zeros((1, n_a))\n",
    "\n",
    "    # Nombre generado y caracter de fin de linea\n",
    "    nombre_generado = ''\n",
    "    fin_linea = '\\n'\n",
    "    car = -1\n",
    "\n",
    "    # Iterar sobre el modelo y generar predicción hasta tanto no se alcance\n",
    "    # \"fin_linea\" o el nombre generado llegue a los 50 caracteres\n",
    "    contador = 0\n",
    "    while (car != fin_linea and contador != 50):\n",
    "          # Generar predicción usando la celda RNN\n",
    "          a, _ = celda_recurrente(K.constant(x), initial_state=K.constant(a))\n",
    "          y = capa_salida(a)\n",
    "          prediccion = K.eval(y)\n",
    "\n",
    "          # Escoger aleatoriamente un elemento de la predicción (el elemento con\n",
    "          # con probabilidad más alta tendrá más opciones de ser seleccionado)\n",
    "          ix = np.random.choice(list(range(tam_alfabeto)),p=prediccion.ravel())\n",
    "\n",
    "          # Convertir el elemento seleccionado a caracter y añadirlo al nombre generado\n",
    "          car = ind_a_car[ix]\n",
    "          nombre_generado += car\n",
    "\n",
    "          # Crear x_(t+1) = y_t, y a_t = a_(t-1)\n",
    "          x = to_categorical(ix,tam_alfabeto).reshape(1,1,tam_alfabeto)\n",
    "          a = K.eval(a)\n",
    "\n",
    "          # Actualizar contador y continuar\n",
    "          contador += 1\n",
    "\n",
    "          # Agregar fin de línea al nombre generado en caso de tener más de 50 caracteres\n",
    "          if (contador == 50):\n",
    "            nombre_generado += '\\n'\n",
    "\n",
    "    print(nombre_generado)\n",
    "\n",
    "# Generar 100 ejemplos de nombres generados por el modelo ya entrenado\n",
    "for i in range(100):\n",
    "    generar_nombre(modelo,car_a_ind,tam_alfabeto,n_a)"
   ]
  }
 ],
 "metadata": {
  "kernelspec": {
   "display_name": "Python 2",
   "language": "python",
   "name": "python2"
  },
  "language_info": {
   "codemirror_mode": {
    "name": "ipython",
    "version": 2
   },
   "file_extension": ".py",
   "mimetype": "text/x-python",
   "name": "python",
   "nbconvert_exporter": "python",
   "pygments_lexer": "ipython2",
   "version": "2.7.15"
  }
 },
 "nbformat": 4,
 "nbformat_minor": 2
}
